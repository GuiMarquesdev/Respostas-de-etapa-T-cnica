{
 "cells": [
  {
   "cell_type": "markdown",
   "metadata": {},
   "source": [
    "Dado a sequência de Fibonacci, onde se inicia por 0 e 1 e o próximo valor sempre será a soma dos 2 valores anteriores (exemplo: 0, 1, 1, 2, 3, 5, 8, 13, 21, 34...), escreva um programa na linguagem que desejar onde, informado um número, ele calcule a sequência de Fibonacci e retorne uma mensagem avisando se o número informado pertence ou não a sequência."
   ]
  },
  {
   "cell_type": "code",
   "execution_count": null,
   "metadata": {},
   "outputs": [],
   "source": [
    "def fibonacci(n):\n",
    "    # Inicializa os dois primeiros números da sequência de Fibonacci\n",
    "    a, b = 0, 1\n",
    "    \n",
    "    # Continua gerando até que 'a' seja maior ou igual a 'n'\n",
    "    while a <= n:\n",
    "        if a == n:\n",
    "            return f\"O número {n} pertence à sequência de Fibonacci.\"\n",
    "        a, b = b, a + b  # Atualiza os valores de 'a' e 'b'\n",
    "    \n",
    "    # Se 'a' ultrapassar 'n', então o número não pertence à sequência\n",
    "    return f\"O número {n} não pertence à sequência de Fibonacci.\"\n",
    "\n",
    "# Solicita o número do usuário\n",
    "numero = int(input(\"Informe um número: \"))\n",
    "\n",
    "# Executa a função e exibe o resultado\n",
    "print(fibonacci(numero))"
   ]
  },
  {
   "cell_type": "markdown",
   "metadata": {},
   "source": [
    "Escreva um programa que verifique, em uma string, a existência da letra ‘a’, seja maiúscula ou minúscula, além de informar a quantidade de vezes em que ela ocorre."
   ]
  },
  {
   "cell_type": "code",
   "execution_count": null,
   "metadata": {},
   "outputs": [],
   "source": [
    "def verificar_letra_a(string):\n",
    "    # Contador de  quantas vezes 'a' ou 'A' aparece na string\n",
    "    contador = string.lower().count('a')\n",
    "    \n",
    "    if contador > 0:\n",
    "        return f\"A letra 'a' aparece {contador} vez(es) na string.\"\n",
    "    else:\n",
    "        return \"A letra 'a' não foi encontrada na string.\"\n",
    "\n",
    "# Exemplo de uso\n",
    "string_informada = input(\"Informe uma string: \")\n",
    "resultado = verificar_letra_a(string_informada)\n",
    "\n",
    "print(resultado)"
   ]
  },
  {
   "cell_type": "markdown",
   "metadata": {},
   "source": [
    "Observe o trecho de código abaixo: int INDICE = 12, SOMA = 0, K = 1; enquanto K < INDICE faça { K = K + 1; SOMA = SOMA + K; } imprimir(SOMA);\n",
    "\n",
    "Ao final do processamento, qual será o valor da variável SOMA?\n"
   ]
  },
  {
   "cell_type": "markdown",
   "metadata": {},
   "source": [
    "NDICE = 12\n",
    "SOMA = 0\n",
    "K = 1\n",
    "Loop (enquanto K < INDICE):\n",
    "\n",
    "O loop continua enquanto K for < que INDICE (ou seja, enquanto K < 12).\n",
    "Dentro do loop:\n",
    "Primeiro, K é incrementado em 1.\n",
    "Depois, o novo valor de K é adicionado à variável SOMA.\n",
    "Execução do loop:\n",
    "\n",
    "Primeira iteração:\n",
    "K = 1 + 1 = 2\n",
    "SOMA = 0 + 2 = 2\n",
    "Segunda iteração:\n",
    "K = 2 + 1 = 3\n",
    "SOMA = 2 + 3 = 5\n",
    "Terceira iteração:\n",
    "K = 3 + 1 = 4\n",
    "SOMA = 5 + 4 = 9\n",
    "Quarta iteração:\n",
    "K = 4 + 1 = 5\n",
    "SOMA = 9 + 5 = 14\n",
    "Quinta iteração:\n",
    "K = 5 + 1 = 6\n",
    "SOMA = 14 + 6 = 20\n",
    "Sexta iteração:\n",
    "K = 6 + 1 = 7\n",
    "SOMA = 20 + 7 = 27\n",
    "Sétima iteração:\n",
    "K = 7 + 1 = 8\n",
    "SOMA = 27 + 8 = 35\n",
    "Oitava iteração:\n",
    "K = 8 + 1 = 9\n",
    "SOMA = 35 + 9 = 44\n",
    "Nona iteração:\n",
    "K = 9 + 1 = 10\n",
    "SOMA = 44 + 10 = 54\n",
    "Décima iteração:\n",
    "K = 10 + 1 = 11\n",
    "SOMA = 54 + 11 = 65\n",
    "Décima primeira iteração:\n",
    "K = 11 + 1 = 12\n",
    "SOMA = 65 + 12 = 77\n",
    "Fim do loop:\n",
    "\n",
    "O loop para quando K se torna igual a INDICE (12).\n",
    "O valor final de SOMA é 77.\n"
   ]
  },
  {
   "cell_type": "markdown",
   "metadata": {},
   "source": [
    " Descubra a lógica e complete o próximo elemento:\n",
    "a) 1, 3, 5, 7, ___\n",
    "b) 2, 4, 8, 16, 32, 64, ____\n",
    "c) 0, 1, 4, 9, 16, 25, 36, ____\n",
    "d) 4, 16, 36, 64, ____\n",
    "e) 1, 1, 2, 3, 5, 8, ____\n",
    "f) 2,10, 12, 16, 17, 18, 19, ____"
   ]
  },
  {
   "cell_type": "markdown",
   "metadata": {},
   "source": [
    "a) 1, 3, 5, 7, ___\n",
    "Lógica: A sequência é formada por números ímpares consecutivos.\n",
    "Próximo número: 9\n",
    "b) 2, 4, 8, 16, 32, 64, ____\n",
    "Lógica: Cada número é o dobro do anterior.\n",
    "Próximo número: 128\n",
    "c) 0, 1, 4, 9, 16, 25, 36, ____\n",
    "Lógica: A sequência é formada pelos quadrados perfeitos (0², 1², 2², 3², 4², 5², 6²...).\n",
    "Próximo número: 49 (7²)\n",
    "d) 4, 16, 36, 64, ____\n",
    "Lógica: A sequência é formada pelos quadrados de números pares (2², 4², 6², 8²...).\n",
    "Próximo número: 100 (10²)\n",
    "e) 1, 1, 2, 3, 5, 8, ____\n",
    "Lógica: Esta é a sequência de Fibonacci, onde cada número é a soma dos dois anteriores.\n",
    "Próximo número: 13 (5 + 8)\n",
    "f) 2, 10, 12, 16, 17, 18, 19, ____\n",
    "Lógica: A sequência alterna entre números múltiplos de 2 e números consecutivos começando em 16.\n",
    "Próximo número: 20"
   ]
  },
  {
   "cell_type": "markdown",
   "metadata": {},
   "source": [
    "Você está em uma sala com três interruptores, cada um conectado a uma lâmpada em salas diferentes. Você não pode ver as lâmpadas da sala em que está, mas pode ligar e desligar os interruptores quantas vezes quiser. Seu objetivo é descobrir qual interruptor controla qual lâmpada. Como você faria para descobrir, usando apenas duas idas até uma das salas das lâmpadas, qual interruptor controla cada lâmpada?"
   ]
  },
  {
   "cell_type": "markdown",
   "metadata": {},
   "source": [
    "Etapas:\n",
    "Iniciação:\n",
    "\n",
    "Ligaremos o primeiro interruptor (o Interruptor 1) e o manteremos ligado por um período adequado, algo como alguns minutos.\n",
    "Depois de um certo tempo, desligue o Interruptor 1.\n",
    "Segunda medida:\n",
    "\n",
    "Selecione o segundo interruptor (Interruptor 2) e o mantenha ligado.\n",
    "Mantenha o terceiro interruptor (Interruptor 3) sempre desligado.\n",
    "Primeira visita à sala das luzes:\n",
    "\n",
    "Agora, vá para a sala das lâmpadas.\n",
    "\n",
    "O interruptor que mantém a lâmpada acesa é o mesmo que você deixou ligado antes de sair.\n",
    "pressione as duas lâmpadas que estão desligadas.\n",
    "O Interruptor 1 controla a lâmpada que está aquecida (ela ficou acesa por um período e foi desligada antes de você entrar na sala).\n",
    "O Interruptor 3 (que nunca foi ativado) controla a lâmpada que está aquecida.\n",
    "Assim, é possível determinar qual interruptor aciona cada lâmpada com apenas duas visitas à sala!"
   ]
  }
 ],
 "metadata": {
  "kernelspec": {
   "display_name": "Python 3",
   "language": "python",
   "name": "python3"
  },
  "language_info": {
   "codemirror_mode": {
    "name": "ipython",
    "version": 3
   },
   "file_extension": ".py",
   "mimetype": "text/x-python",
   "name": "python",
   "nbconvert_exporter": "python",
   "pygments_lexer": "ipython3",
   "version": "3.12.6"
  }
 },
 "nbformat": 4,
 "nbformat_minor": 2
}
